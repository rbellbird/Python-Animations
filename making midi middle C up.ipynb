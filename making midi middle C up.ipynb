{
 "cells": [
  {
   "cell_type": "code",
   "execution_count": 5,
   "metadata": {
    "collapsed": false
   },
   "outputs": [],
   "source": [
    "#1. import and define data - to be used for visual graphs and audio generation\n",
    "import csv\n",
    "data = []\n",
    "with open(\"temp since 1880 05.csv\") as fp:\n",
    "    for row in csv.reader(fp):\n",
    "        data.append(row)\n",
    "years = [int(row[0]) for row in data]\n",
    "temp = [float(row[1]) for row in data]\n",
    "#this is to convert temp anomalies in hundredth deg. C deviations from 1951-1980 global avg (57.2 deg F)\n",
    "#to absolut deg F\n",
    "temps = [(x/100 * 1.8)+57.2 for x in temp]\n",
    "\n",
    "#this assigns the min and max values for the whole range, 1880 to 2014\n",
    "mintemp = min(temps)\n",
    "maxtemp = max(temps)"
   ]
  },
  {
   "cell_type": "code",
   "execution_count": 2,
   "metadata": {
    "collapsed": false
   },
   "outputs": [
    {
     "name": "stderr",
     "output_type": "stream",
     "text": [
      "You are using pip version 7.0.3, however version 7.1.0 is available.\n",
      "You should consider upgrading via the 'python -m pip install --upgrade pip' command.\n"
     ]
    },
    {
     "name": "stdout",
     "output_type": "stream",
     "text": [
      "Processing c:\\users\\singler\\midiutil-0.89.tar.gz\n",
      "  Requirement already satisfied (use --upgrade to upgrade): MIDIUtil==0.89 from file:///C:/Users/singler/MIDIUtil-0.89.tar.gz in c:\\anaconda3\\lib\\site-packages\n"
     ]
    }
   ],
   "source": [
    "import pip\n",
    "\n",
    "def install(package):\n",
    "   pip.main(['install', package])\n",
    "\n",
    "install('MIDIUtil-0.89.tar.gz') "
   ]
  },
  {
   "cell_type": "code",
   "execution_count": 6,
   "metadata": {
    "collapsed": false
   },
   "outputs": [
    {
     "name": "stdout",
     "output_type": "stream",
     "text": [
      "enter minimum midinote: 60\n",
      "enter maximum midinote: 108\n"
     ]
    }
   ],
   "source": [
    "#THIS IS THE CODE TO SET THE RANGE OF MIDI NOTES\n",
    "midinotes = []\n",
    "#n = float(input('for how many seconds do you want your sequence to play? '))\n",
    "#dur = n/len(tempslice)\n",
    "#print('each note will play for ',dur,' seconds')\n",
    "mn = int(input('enter minimum midinote: '))\n",
    "mx = int(input('enter maximum midinote: '))\n",
    "for i in range(0,len(temps)):\n",
    "    ratio = (temps[i] - mintemp)/(maxtemp - mintemp)\n",
    "    midinotes.append(ratio * (mx - mn) + mn )\n",
    "    \n",
    "#NOW WE NEED TO INSERT ONE SILENT TONE AT THE BEGINING\n",
    "midinotes.insert(0,0)\n",
    "#THIS IS CODE TO MAKE THE NOTES INTEGERS\n",
    "midinotesint = []\n",
    "for item in midinotes:\n",
    "    midinotesint.append(int(item))"
   ]
  },
  {
   "cell_type": "code",
   "execution_count": 4,
   "metadata": {
    "collapsed": false
   },
   "outputs": [
    {
     "data": {
      "text/plain": [
       "136"
      ]
     },
     "execution_count": 4,
     "metadata": {},
     "output_type": "execute_result"
    }
   ],
   "source": [
    "len(midinotesint)"
   ]
  },
  {
   "cell_type": "code",
   "execution_count": 5,
   "metadata": {
    "collapsed": false
   },
   "outputs": [
    {
     "data": {
      "text/plain": [
       "108"
      ]
     },
     "execution_count": 5,
     "metadata": {},
     "output_type": "execute_result"
    }
   ],
   "source": [
    "midinotesint[135]"
   ]
  },
  {
   "cell_type": "code",
   "execution_count": 8,
   "metadata": {
    "collapsed": false
   },
   "outputs": [],
   "source": [
    "#THIS GENERATES MIDI FILE FROM MIDINOTESINT\n",
    "#Import the library\n",
    "\n",
    "from midiutil.MidiFile3 import MIDIFile\n",
    "\n",
    "# Create the MIDIFile Object with 1 track\n",
    "MyMIDI = MIDIFile(1)\n",
    "\n",
    "# Tracks are numbered from zero. Times are measured in beats.\n",
    "\n",
    "#FOR SOME REASON,  THESE TWO LINES NEED TO BE RUN FIRST WHILE OFF, THEN ON WILL WORK SPORADICALLY\n",
    "# Add track name and tempo.\n",
    "#MyMIDI.addTrackName(track,time,\"Sample Track\")\n",
    "#MyMIDI.addTempo(track,time,360)\n",
    "\n",
    "blip = len(midinotesint)\n",
    "blips = blip - 1\n",
    "\n",
    "for i in range(0,blips):\n",
    "# Add a note. addNote expects the following information:\n",
    "    track = 0\n",
    "    channel = 0\n",
    "    pitch = midinotesint[i]\n",
    "    time = i\n",
    "    duration = 1\n",
    "    volume = 100\n",
    "    # Now add the note.\n",
    "    MyMIDI.addNote(track,channel,pitch,time,duration,volume)\n",
    "\n",
    "#THIS IS THE CODE TO MAKE THE LAST NOTE SUSTAIN\n",
    "# Add a note. addNote expects the following information:\n",
    "track = 0\n",
    "channel = 1\n",
    "pitch = midinotesint[blip-1]\n",
    "time = i+1\n",
    "duration = 8\n",
    "volume = 100\n",
    "\n",
    "# Now add the note.\n",
    "MyMIDI.addNote(track,channel,pitch,time,duration,volume)\n",
    "\n",
    "# And write it to disk.\n",
    "binfile = open(\"tempMID_C_up_05.mid\", 'wb')\n",
    "MyMIDI.writeFile(binfile)\n",
    "binfile.close()"
   ]
  },
  {
   "cell_type": "code",
   "execution_count": 7,
   "metadata": {
    "collapsed": false
   },
   "outputs": [
    {
     "data": {
      "text/plain": [
       "108"
      ]
     },
     "execution_count": 7,
     "metadata": {},
     "output_type": "execute_result"
    }
   ],
   "source": [
    "midinotesint[135]"
   ]
  },
  {
   "cell_type": "code",
   "execution_count": null,
   "metadata": {
    "collapsed": true
   },
   "outputs": [],
   "source": []
  }
 ],
 "metadata": {
  "kernelspec": {
   "display_name": "Python 3",
   "language": "python",
   "name": "python3"
  },
  "language_info": {
   "codemirror_mode": {
    "name": "ipython",
    "version": 3
   },
   "file_extension": ".py",
   "mimetype": "text/x-python",
   "name": "python",
   "nbconvert_exporter": "python",
   "pygments_lexer": "ipython3",
   "version": "3.4.3"
  }
 },
 "nbformat": 4,
 "nbformat_minor": 0
}
