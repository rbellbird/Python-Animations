{
 "cells": [
  {
   "cell_type": "code",
   "execution_count": 1,
   "metadata": {
    "collapsed": true
   },
   "outputs": [],
   "source": [
    "#import 1880 file, do conversions in python\n",
    "import csv\n",
    "with open('temp since 1880.csv', 'r') as f:\n",
    "    reader = csv.reader(f)\n",
    "    sonif1 = list(reader)"
   ]
  },
  {
   "cell_type": "code",
   "execution_count": 2,
   "metadata": {
    "collapsed": true
   },
   "outputs": [],
   "source": [
    "#to convert entries from imported csv files to integers and floats\n",
    "years = [int(row[0]) for row in sonif1]\n",
    "temp = [float(row[1]) for row in sonif1]\n",
    "freq = [float(row[2]) for row in sonif1] #this freq column becomes unecessary if python is used to generate freqs\n",
    "#as is done below"
   ]
  },
  {
   "cell_type": "code",
   "execution_count": 3,
   "metadata": {
    "collapsed": true
   },
   "outputs": [],
   "source": [
    "#this is to convert temp anomalies in hundredth deg. C deviations from 1951-1980 global avg (57.2 deg F)\n",
    "#to absolut deg F\n",
    "temps = [(x/100 * 1.8)+57.2 for x in temp]"
   ]
  },
  {
   "cell_type": "code",
   "execution_count": 4,
   "metadata": {
    "collapsed": false
   },
   "outputs": [
    {
     "data": {
      "image/png": "[encoded data removed]",
      "text/plain": [
       "<matplotlib.figure.Figure at 0x2c1a510>"
      ]
     },
     "metadata": {},
     "output_type": "display_data"
    }
   ],
   "source": [
    "#to import the appropriate tools for graphing\n",
    "import matplotlib.pyplot as plt\n",
    "import numpy as np\n",
    "\n",
    "#for some reason, this seems to be necessary code as well\n",
    "%matplotlib inline\n",
    "\n",
    "x = years\n",
    "y = temps\n",
    "plt.ylabel('avg. global temp (deg. F)')\n",
    "plt.xlabel('year')\n",
    "\n",
    "#adds line to scatterplot\n",
    "line, = plt.plot(x, y, '-')\n",
    "#defines range of each axis\n",
    "plt.axis([1870, 2020, 56.2, 58.6])\n",
    "#defines plot type (the term 'plot' will give line)\n",
    "plt.scatter(x, y)\n",
    "#shows the graph\n",
    "plt.show()"
   ]
  },
  {
   "cell_type": "code",
   "execution_count": 7,
   "metadata": {
    "collapsed": false
   },
   "outputs": [
    {
     "data": {
      "text/plain": [
       "1880"
      ]
     },
     "execution_count": 7,
     "metadata": {},
     "output_type": "execute_result"
    }
   ],
   "source": [
    "years[0]"
   ]
  },
  {
   "cell_type": "code",
   "execution_count": 5,
   "metadata": {
    "collapsed": false
   },
   "outputs": [
    {
     "data": {
      "image/png": "[encoded data removed]",
      "text/plain": [
       "<matplotlib.figure.Figure at 0x660e8d0>"
      ]
     },
     "metadata": {},
     "output_type": "display_data"
    }
   ],
   "source": [
    "\"\"\"\n",
    "This short code snippet utilizes the new animation package in\n",
    "matplotlib 1.1.0; it's the shortest snippet that I know of that can\n",
    "produce an animated plot in python. I'm still hoping that the\n",
    "animate package's syntax can be simplified further. \n",
    "\"\"\"\n",
    "import numpy as np\n",
    "import matplotlib.pyplot as plt\n",
    "import matplotlib.animation as animation\n",
    "\n",
    "pos = 0\n",
    "def simData():\n",
    "# this function is called as the argument for\n",
    "# the simPoints function. This function contains\n",
    "# (or defines) and iterator---a device that computes\n",
    "# a value, passes it back to the main program, and then\n",
    "# returns to exactly where it left off in the function upon the\n",
    "# next call. I believe that one has to use this method to animate\n",
    "# a function using the matplotlib animation package.\n",
    "#\n",
    "# #     t_max = 10.0\n",
    "# #     dt = 0.05\n",
    "# #     x = 0.0\n",
    "# #     t = 0.0\n",
    "#     while t < t_max:\n",
    "#         x = np.sin(np.pi*t)\n",
    "#         t = t + dt\n",
    "#         yield x, t\n",
    "    global pos\n",
    "    while pos < len(years):\n",
    "        yield years[pos], temps[pos]\n",
    "        pos += 1\n",
    "\n",
    "def simPoints(simData):\n",
    "    x, t = simData[0], simData[1]\n",
    "    time_text.set_text(time_template%(t))\n",
    "    line.set_data(t, x)\n",
    "    return line, time_text\n",
    "\n",
    "##\n",
    "##   set up figure for plotting:\n",
    "##\n",
    "fig = plt.figure()\n",
    "ax = fig.add_subplot(111)\n",
    "# I'm still unfamiliar with the following line of code:\n",
    "line, = ax.plot([], [], 'bo', ms=10)\n",
    "ax.set_ylim(50, 60)\n",
    "ax.set_xlim(min(years), max(years))\n",
    "##\n",
    "time_template = 'Time = %.1f s'    # prints running simulation time\n",
    "time_text = ax.text(0.05, 0.9, '', transform=ax.transAxes)\n",
    "## Now call the animation package: (simData is the user function\n",
    "## serving as the argument for simPoints):\n",
    "ani = animation.FuncAnimation(fig, simPoints, simData, blit=False,\\\n",
    "     interval=10, repeat=True)\n",
    "plt.show()\n",
    "ani.save('basic_animationreallyOCTafsgafhafh2AAA.mp4')"
   ]
  },
  {
   "cell_type": "code",
   "execution_count": 8,
   "metadata": {
    "collapsed": false
   },
   "outputs": [
    {
     "ename": "TypeError",
     "evalue": "list indices must be integers, not float",
     "output_type": "error",
     "traceback": [
      "\u001b[1;31m---------------------------------------------------------------------------\u001b[0m",
      "\u001b[1;31mTypeError\u001b[0m                                 Traceback (most recent call last)",
      "\u001b[1;32m<ipython-input-8-e01a5a23909a>\u001b[0m in \u001b[0;36m<module>\u001b[1;34m()\u001b[0m\n\u001b[0;32m     50\u001b[0m \u001b[1;31m#     interval=100, repeat=True)\u001b[0m\u001b[1;33m\u001b[0m\u001b[1;33m\u001b[0m\u001b[0m\n\u001b[0;32m     51\u001b[0m ani = animation.FuncAnimation(fig, simPoints, simData,\n\u001b[1;32m---> 52\u001b[1;33m      interval=100)\n\u001b[0m\u001b[0;32m     53\u001b[0m \u001b[0mplt\u001b[0m\u001b[1;33m.\u001b[0m\u001b[0mshow\u001b[0m\u001b[1;33m(\u001b[0m\u001b[1;33m)\u001b[0m\u001b[1;33m\u001b[0m\u001b[0m\n\u001b[0;32m     54\u001b[0m \u001b[1;33m\u001b[0m\u001b[0m\n",
      "\u001b[1;32mC:\\Anaconda3\\lib\\site-packages\\matplotlib\\animation.py\u001b[0m in \u001b[0;36m__init__\u001b[1;34m(self, fig, func, frames, init_func, fargs, save_count, **kwargs)\u001b[0m\n\u001b[0;32m   1065\u001b[0m         \u001b[0mself\u001b[0m\u001b[1;33m.\u001b[0m\u001b[0m_save_seq\u001b[0m \u001b[1;33m=\u001b[0m \u001b[1;33m[\u001b[0m\u001b[1;33m]\u001b[0m\u001b[1;33m\u001b[0m\u001b[0m\n\u001b[0;32m   1066\u001b[0m \u001b[1;33m\u001b[0m\u001b[0m\n\u001b[1;32m-> 1067\u001b[1;33m         \u001b[0mTimedAnimation\u001b[0m\u001b[1;33m.\u001b[0m\u001b[0m__init__\u001b[0m\u001b[1;33m(\u001b[0m\u001b[0mself\u001b[0m\u001b[1;33m,\u001b[0m \u001b[0mfig\u001b[0m\u001b[1;33m,\u001b[0m \u001b[1;33m**\u001b[0m\u001b[0mkwargs\u001b[0m\u001b[1;33m)\u001b[0m\u001b[1;33m\u001b[0m\u001b[0m\n\u001b[0m\u001b[0;32m   1068\u001b[0m \u001b[1;33m\u001b[0m\u001b[0m\n\u001b[0;32m   1069\u001b[0m         \u001b[1;31m# Need to reset the saved seq, since right now it will contain data\u001b[0m\u001b[1;33m\u001b[0m\u001b[1;33m\u001b[0m\u001b[0m\n",
      "\u001b[1;32mC:\\Anaconda3\\lib\\site-packages\\matplotlib\\animation.py\u001b[0m in \u001b[0;36m__init__\u001b[1;34m(self, fig, interval, repeat_delay, repeat, event_source, *args, **kwargs)\u001b[0m\n\u001b[0;32m    911\u001b[0m \u001b[1;33m\u001b[0m\u001b[0m\n\u001b[0;32m    912\u001b[0m         Animation.__init__(self, fig, event_source=event_source,\n\u001b[1;32m--> 913\u001b[1;33m                            *args, **kwargs)\n\u001b[0m\u001b[0;32m    914\u001b[0m \u001b[1;33m\u001b[0m\u001b[0m\n\u001b[0;32m    915\u001b[0m     \u001b[1;32mdef\u001b[0m \u001b[0m_step\u001b[0m\u001b[1;33m(\u001b[0m\u001b[0mself\u001b[0m\u001b[1;33m,\u001b[0m \u001b[1;33m*\u001b[0m\u001b[0margs\u001b[0m\u001b[1;33m)\u001b[0m\u001b[1;33m:\u001b[0m\u001b[1;33m\u001b[0m\u001b[0m\n",
      "\u001b[1;32mC:\\Anaconda3\\lib\\site-packages\\matplotlib\\animation.py\u001b[0m in \u001b[0;36m__init__\u001b[1;34m(self, fig, event_source, blit)\u001b[0m\n\u001b[0;32m    589\u001b[0m \u001b[1;33m\u001b[0m\u001b[0m\n\u001b[0;32m    590\u001b[0m         \u001b[1;31m# Clear the initial frame\u001b[0m\u001b[1;33m\u001b[0m\u001b[1;33m\u001b[0m\u001b[0m\n\u001b[1;32m--> 591\u001b[1;33m         \u001b[0mself\u001b[0m\u001b[1;33m.\u001b[0m\u001b[0m_init_draw\u001b[0m\u001b[1;33m(\u001b[0m\u001b[1;33m)\u001b[0m\u001b[1;33m\u001b[0m\u001b[0m\n\u001b[0m\u001b[0;32m    592\u001b[0m \u001b[1;33m\u001b[0m\u001b[0m\n\u001b[0;32m    593\u001b[0m         \u001b[1;31m# Instead of starting the event source now, we connect to the figure's\u001b[0m\u001b[1;33m\u001b[0m\u001b[1;33m\u001b[0m\u001b[0m\n",
      "\u001b[1;32mC:\\Anaconda3\\lib\\site-packages\\matplotlib\\animation.py\u001b[0m in \u001b[0;36m_init_draw\u001b[1;34m(self)\u001b[0m\n\u001b[0;32m   1090\u001b[0m         \u001b[1;31m# artists.\u001b[0m\u001b[1;33m\u001b[0m\u001b[1;33m\u001b[0m\u001b[0m\n\u001b[0;32m   1091\u001b[0m         \u001b[1;32mif\u001b[0m \u001b[0mself\u001b[0m\u001b[1;33m.\u001b[0m\u001b[0m_init_func\u001b[0m \u001b[1;32mis\u001b[0m \u001b[1;32mNone\u001b[0m\u001b[1;33m:\u001b[0m\u001b[1;33m\u001b[0m\u001b[0m\n\u001b[1;32m-> 1092\u001b[1;33m             \u001b[0mself\u001b[0m\u001b[1;33m.\u001b[0m\u001b[0m_draw_frame\u001b[0m\u001b[1;33m(\u001b[0m\u001b[0mnext\u001b[0m\u001b[1;33m(\u001b[0m\u001b[0mself\u001b[0m\u001b[1;33m.\u001b[0m\u001b[0mnew_frame_seq\u001b[0m\u001b[1;33m(\u001b[0m\u001b[1;33m)\u001b[0m\u001b[1;33m)\u001b[0m\u001b[1;33m)\u001b[0m\u001b[1;33m\u001b[0m\u001b[0m\n\u001b[0m\u001b[0;32m   1093\u001b[0m         \u001b[1;32melse\u001b[0m\u001b[1;33m:\u001b[0m\u001b[1;33m\u001b[0m\u001b[0m\n\u001b[0;32m   1094\u001b[0m             \u001b[0mself\u001b[0m\u001b[1;33m.\u001b[0m\u001b[0m_drawn_artists\u001b[0m \u001b[1;33m=\u001b[0m \u001b[0mself\u001b[0m\u001b[1;33m.\u001b[0m\u001b[0m_init_func\u001b[0m\u001b[1;33m(\u001b[0m\u001b[1;33m)\u001b[0m\u001b[1;33m\u001b[0m\u001b[0m\n",
      "\u001b[1;32m<ipython-input-8-e01a5a23909a>\u001b[0m in \u001b[0;36msimData\u001b[1;34m()\u001b[0m\n\u001b[0;32m     23\u001b[0m     \u001b[0mt\u001b[0m \u001b[1;33m=\u001b[0m \u001b[1;36m0.0\u001b[0m\u001b[1;33m\u001b[0m\u001b[0m\n\u001b[0;32m     24\u001b[0m     \u001b[1;32mwhile\u001b[0m \u001b[0mt\u001b[0m \u001b[1;33m<\u001b[0m \u001b[0mt_max\u001b[0m\u001b[1;33m:\u001b[0m\u001b[1;33m\u001b[0m\u001b[0m\n\u001b[1;32m---> 25\u001b[1;33m         \u001b[0mx\u001b[0m \u001b[1;33m=\u001b[0m \u001b[0myears\u001b[0m\u001b[1;33m[\u001b[0m\u001b[0mt\u001b[0m\u001b[1;33m]\u001b[0m\u001b[1;33m\u001b[0m\u001b[0m\n\u001b[0m\u001b[0;32m     26\u001b[0m         \u001b[0my\u001b[0m \u001b[1;33m=\u001b[0m \u001b[0mtemps\u001b[0m\u001b[1;33m[\u001b[0m\u001b[0mt\u001b[0m\u001b[1;33m]\u001b[0m\u001b[1;33m\u001b[0m\u001b[0m\n\u001b[0;32m     27\u001b[0m         \u001b[1;32myield\u001b[0m \u001b[0mx\u001b[0m\u001b[1;33m,\u001b[0m \u001b[0mt\u001b[0m\u001b[1;33m\u001b[0m\u001b[0m\n",
      "\u001b[1;31mTypeError\u001b[0m: list indices must be integers, not float"
     ]
    },
    {
     "data": {
      "image/png": "[encoded data removed]",
      "text/plain": [
       "<matplotlib.figure.Figure at 0x551db70>"
      ]
     },
     "metadata": {},
     "output_type": "display_data"
    }
   ],
   "source": [
    "#THIS IS A FAILED ATTEMPT OF MINE TO MODIFY CODE ABOVE\n",
    "\n",
    "\"\"\"\n",
    "This short code snippet utilizes the new animation package in\n",
    "matplotlib 1.1.0; it's the shortest snippet that I know of that can\n",
    "produce an animated plot in python. I'm still hoping that the\n",
    "animate package's syntax can be simplified further. \n",
    "\"\"\"\n",
    "import numpy as np\n",
    "import matplotlib.pyplot as plt\n",
    "import matplotlib.animation as animation\n",
    " \n",
    "def simData():\n",
    "# this function is called as the argument for\n",
    "# the simPoints function. This function contains\n",
    "# (or defines) and iterator---a device that computes\n",
    "# a value, passes it back to the main program, and then\n",
    "# returns to exactly where it left off in the function upon the\n",
    "# next call. I believe that one has to use this method to animate\n",
    "# a function using the matplotlib animation package.\n",
    "#\n",
    "    t_max = 10.0\n",
    "    dt = 1\n",
    "    x = 0.0\n",
    "    t = 0.0\n",
    "    while t < t_max:\n",
    "        x = years[t]\n",
    "        y = temps[t]\n",
    "        yield x, t\n",
    " \n",
    "def simPoints(simData):\n",
    "    x, y = simData[0], simData[1]\n",
    "    time_text.set_text(time_template%(t))\n",
    "    line.set_data(y, x)\n",
    "    return line, time_text\n",
    " \n",
    "##\n",
    "##   set up figure for plotting:\n",
    "##\n",
    "fig = plt.figure()\n",
    "ax = fig.add_subplot(111)\n",
    "# I'm still unfamiliar with the following line of code:\n",
    "line, = ax.plot([], [], 'bo', ls='-', linewidth=2.0, ms=10)\n",
    "ax.set_ylim(55, 59)\n",
    "ax.set_xlim(1880, 2000)\n",
    "##\n",
    "time_template = 'Time = %.1f s'    # prints running simulation time\n",
    "time_text = ax.text(0.05, 0.9, '', transform=ax.transAxes)\n",
    "## Now call the animation package: (simData is the user function\n",
    "## serving as the argument for simPoints):\n",
    "#ani = animation.FuncAnimation(fig, simPoints, simData, blit=True,\\\n",
    "#     interval=100, repeat=True)\n",
    "ani = animation.FuncAnimation(fig, simPoints, simData,\n",
    "     interval=100)\n",
    "plt.show()\n",
    "\n",
    "ani.save('basic_animationreallyOCT30.mp4')"
   ]
  },
  {
   "cell_type": "code",
   "execution_count": 17,
   "metadata": {
    "collapsed": false
   },
   "outputs": [
    {
     "ename": "TypeError",
     "evalue": "list indices must be integers, not float",
     "output_type": "error",
     "traceback": [
      "\u001b[1;31m---------------------------------------------------------------------------\u001b[0m",
      "\u001b[1;31mTypeError\u001b[0m                                 Traceback (most recent call last)",
      "\u001b[1;32m<ipython-input-17-a523a35814fc>\u001b[0m in \u001b[0;36m<module>\u001b[1;34m()\u001b[0m\n\u001b[0;32m     37\u001b[0m \u001b[0mtime_text\u001b[0m \u001b[1;33m=\u001b[0m \u001b[0max\u001b[0m\u001b[1;33m.\u001b[0m\u001b[0mtext\u001b[0m\u001b[1;33m(\u001b[0m\u001b[1;36m0.05\u001b[0m\u001b[1;33m,\u001b[0m \u001b[1;36m0.9\u001b[0m\u001b[1;33m,\u001b[0m \u001b[1;34m''\u001b[0m\u001b[1;33m,\u001b[0m \u001b[0mtransform\u001b[0m\u001b[1;33m=\u001b[0m\u001b[0max\u001b[0m\u001b[1;33m.\u001b[0m\u001b[0mtransAxes\u001b[0m\u001b[1;33m)\u001b[0m\u001b[1;33m\u001b[0m\u001b[0m\n\u001b[0;32m     38\u001b[0m \u001b[1;33m\u001b[0m\u001b[0m\n\u001b[1;32m---> 39\u001b[1;33m \u001b[0mani\u001b[0m \u001b[1;33m=\u001b[0m \u001b[0manimation\u001b[0m\u001b[1;33m.\u001b[0m\u001b[0mFuncAnimation\u001b[0m\u001b[1;33m(\u001b[0m\u001b[0mfig\u001b[0m\u001b[1;33m,\u001b[0m \u001b[0msimPoints\u001b[0m\u001b[1;33m,\u001b[0m \u001b[0msimData\u001b[0m\u001b[1;33m)\u001b[0m\u001b[1;33m\u001b[0m\u001b[0m\n\u001b[0m\u001b[0;32m     40\u001b[0m \u001b[0mplt\u001b[0m\u001b[1;33m.\u001b[0m\u001b[0mshow\u001b[0m\u001b[1;33m(\u001b[0m\u001b[1;33m)\u001b[0m\u001b[1;33m\u001b[0m\u001b[0m\n\u001b[0;32m     41\u001b[0m \u001b[1;33m\u001b[0m\u001b[0m\n",
      "\u001b[1;32mC:\\Anaconda3\\lib\\site-packages\\matplotlib\\animation.py\u001b[0m in \u001b[0;36m__init__\u001b[1;34m(self, fig, func, frames, init_func, fargs, save_count, **kwargs)\u001b[0m\n\u001b[0;32m   1065\u001b[0m         \u001b[0mself\u001b[0m\u001b[1;33m.\u001b[0m\u001b[0m_save_seq\u001b[0m \u001b[1;33m=\u001b[0m \u001b[1;33m[\u001b[0m\u001b[1;33m]\u001b[0m\u001b[1;33m\u001b[0m\u001b[0m\n\u001b[0;32m   1066\u001b[0m \u001b[1;33m\u001b[0m\u001b[0m\n\u001b[1;32m-> 1067\u001b[1;33m         \u001b[0mTimedAnimation\u001b[0m\u001b[1;33m.\u001b[0m\u001b[0m__init__\u001b[0m\u001b[1;33m(\u001b[0m\u001b[0mself\u001b[0m\u001b[1;33m,\u001b[0m \u001b[0mfig\u001b[0m\u001b[1;33m,\u001b[0m \u001b[1;33m**\u001b[0m\u001b[0mkwargs\u001b[0m\u001b[1;33m)\u001b[0m\u001b[1;33m\u001b[0m\u001b[0m\n\u001b[0m\u001b[0;32m   1068\u001b[0m \u001b[1;33m\u001b[0m\u001b[0m\n\u001b[0;32m   1069\u001b[0m         \u001b[1;31m# Need to reset the saved seq, since right now it will contain data\u001b[0m\u001b[1;33m\u001b[0m\u001b[1;33m\u001b[0m\u001b[0m\n",
      "\u001b[1;32mC:\\Anaconda3\\lib\\site-packages\\matplotlib\\animation.py\u001b[0m in \u001b[0;36m__init__\u001b[1;34m(self, fig, interval, repeat_delay, repeat, event_source, *args, **kwargs)\u001b[0m\n\u001b[0;32m    911\u001b[0m \u001b[1;33m\u001b[0m\u001b[0m\n\u001b[0;32m    912\u001b[0m         Animation.__init__(self, fig, event_source=event_source,\n\u001b[1;32m--> 913\u001b[1;33m                            *args, **kwargs)\n\u001b[0m\u001b[0;32m    914\u001b[0m \u001b[1;33m\u001b[0m\u001b[0m\n\u001b[0;32m    915\u001b[0m     \u001b[1;32mdef\u001b[0m \u001b[0m_step\u001b[0m\u001b[1;33m(\u001b[0m\u001b[0mself\u001b[0m\u001b[1;33m,\u001b[0m \u001b[1;33m*\u001b[0m\u001b[0margs\u001b[0m\u001b[1;33m)\u001b[0m\u001b[1;33m:\u001b[0m\u001b[1;33m\u001b[0m\u001b[0m\n",
      "\u001b[1;32mC:\\Anaconda3\\lib\\site-packages\\matplotlib\\animation.py\u001b[0m in \u001b[0;36m__init__\u001b[1;34m(self, fig, event_source, blit)\u001b[0m\n\u001b[0;32m    589\u001b[0m \u001b[1;33m\u001b[0m\u001b[0m\n\u001b[0;32m    590\u001b[0m         \u001b[1;31m# Clear the initial frame\u001b[0m\u001b[1;33m\u001b[0m\u001b[1;33m\u001b[0m\u001b[0m\n\u001b[1;32m--> 591\u001b[1;33m         \u001b[0mself\u001b[0m\u001b[1;33m.\u001b[0m\u001b[0m_init_draw\u001b[0m\u001b[1;33m(\u001b[0m\u001b[1;33m)\u001b[0m\u001b[1;33m\u001b[0m\u001b[0m\n\u001b[0m\u001b[0;32m    592\u001b[0m \u001b[1;33m\u001b[0m\u001b[0m\n\u001b[0;32m    593\u001b[0m         \u001b[1;31m# Instead of starting the event source now, we connect to the figure's\u001b[0m\u001b[1;33m\u001b[0m\u001b[1;33m\u001b[0m\u001b[0m\n",
      "\u001b[1;32mC:\\Anaconda3\\lib\\site-packages\\matplotlib\\animation.py\u001b[0m in \u001b[0;36m_init_draw\u001b[1;34m(self)\u001b[0m\n\u001b[0;32m   1090\u001b[0m         \u001b[1;31m# artists.\u001b[0m\u001b[1;33m\u001b[0m\u001b[1;33m\u001b[0m\u001b[0m\n\u001b[0;32m   1091\u001b[0m         \u001b[1;32mif\u001b[0m \u001b[0mself\u001b[0m\u001b[1;33m.\u001b[0m\u001b[0m_init_func\u001b[0m \u001b[1;32mis\u001b[0m \u001b[1;32mNone\u001b[0m\u001b[1;33m:\u001b[0m\u001b[1;33m\u001b[0m\u001b[0m\n\u001b[1;32m-> 1092\u001b[1;33m             \u001b[0mself\u001b[0m\u001b[1;33m.\u001b[0m\u001b[0m_draw_frame\u001b[0m\u001b[1;33m(\u001b[0m\u001b[0mnext\u001b[0m\u001b[1;33m(\u001b[0m\u001b[0mself\u001b[0m\u001b[1;33m.\u001b[0m\u001b[0mnew_frame_seq\u001b[0m\u001b[1;33m(\u001b[0m\u001b[1;33m)\u001b[0m\u001b[1;33m)\u001b[0m\u001b[1;33m)\u001b[0m\u001b[1;33m\u001b[0m\u001b[0m\n\u001b[0m\u001b[0;32m   1093\u001b[0m         \u001b[1;32melse\u001b[0m\u001b[1;33m:\u001b[0m\u001b[1;33m\u001b[0m\u001b[0m\n\u001b[0;32m   1094\u001b[0m             \u001b[0mself\u001b[0m\u001b[1;33m.\u001b[0m\u001b[0m_drawn_artists\u001b[0m \u001b[1;33m=\u001b[0m \u001b[0mself\u001b[0m\u001b[1;33m.\u001b[0m\u001b[0m_init_func\u001b[0m\u001b[1;33m(\u001b[0m\u001b[1;33m)\u001b[0m\u001b[1;33m\u001b[0m\u001b[0m\n",
      "\u001b[1;32m<ipython-input-17-a523a35814fc>\u001b[0m in \u001b[0;36msimData\u001b[1;34m()\u001b[0m\n\u001b[0;32m     17\u001b[0m     \u001b[0mt\u001b[0m \u001b[1;33m=\u001b[0m \u001b[1;36m0.0\u001b[0m\u001b[1;33m\u001b[0m\u001b[0m\n\u001b[0;32m     18\u001b[0m     \u001b[1;32mwhile\u001b[0m \u001b[0mt\u001b[0m \u001b[1;33m<\u001b[0m \u001b[0mt_max\u001b[0m\u001b[1;33m:\u001b[0m\u001b[1;33m\u001b[0m\u001b[0m\n\u001b[1;32m---> 19\u001b[1;33m         \u001b[0mx\u001b[0m \u001b[1;33m=\u001b[0m \u001b[0myears\u001b[0m\u001b[1;33m[\u001b[0m\u001b[0mt\u001b[0m\u001b[1;33m]\u001b[0m\u001b[1;33m\u001b[0m\u001b[0m\n\u001b[0m\u001b[0;32m     20\u001b[0m         \u001b[0my\u001b[0m \u001b[1;33m=\u001b[0m \u001b[0mtemps\u001b[0m\u001b[1;33m[\u001b[0m\u001b[0mt\u001b[0m\u001b[1;33m]\u001b[0m\u001b[1;33m\u001b[0m\u001b[0m\n\u001b[0;32m     21\u001b[0m         \u001b[1;32myield\u001b[0m \u001b[0mx\u001b[0m\u001b[1;33m,\u001b[0m \u001b[0mt\u001b[0m\u001b[1;33m\u001b[0m\u001b[0m\n",
      "\u001b[1;31mTypeError\u001b[0m: list indices must be integers, not float"
     ]
    },
    {
     "data": {
      "image/png": "[encoded data removed]",
      "text/plain": [
       "<matplotlib.figure.Figure at 0x62f5b90>"
      ]
     },
     "metadata": {},
     "output_type": "display_data"
    }
   ],
   "source": [
    "import numpy as np\n",
    "import matplotlib.pyplot as plt\n",
    "import matplotlib.animation as animation\n",
    " \n",
    "def simData():\n",
    "# this function is called as the argument for\n",
    "# the simPoints function. This function contains\n",
    "# (or defines) and iterator---a device that computes\n",
    "# a value, passes it back to the main program, and then\n",
    "# returns to exactly where it left off in the function upon the\n",
    "# next call. I believe that one has to use this method to animate\n",
    "# a function using the matplotlib animation package.\n",
    "#\n",
    "    t_max = 10.0\n",
    "    dt = 1\n",
    "    x = 0.0\n",
    "    t = 0.0\n",
    "    while t < t_max:\n",
    "        x = years[t]\n",
    "        y = temps[t]\n",
    "        yield x, t\n",
    "        \n",
    "def simPoints(simData):\n",
    "    x, y = simData[0], simData[1]\n",
    "    time_text.set_text(time_template%(t))\n",
    "    line.set_data(y, x)\n",
    "    return line, time_text\n",
    "\n",
    "fig = plt.figure()\n",
    "ax = fig.add_subplot(111)\n",
    "# I'm still unfamiliar with the following line of code:\n",
    "line, = ax.plot([], [], 'bo', ls='-', linewidth=2.0, ms=10)\n",
    "ax.set_ylim(55, 59)\n",
    "ax.set_xlim(1880, 2000)\n",
    "\n",
    "time_template = 'Time = %.1f s'    # prints running simulation time\n",
    "time_text = ax.text(0.05, 0.9, '', transform=ax.transAxes)\n",
    "\n",
    "ani = animation.FuncAnimation(fig, simPoints, simData)\n",
    "plt.show()\n",
    "\n",
    "ani.save('basic_animationreally.mp4')"
   ]
  },
  {
   "cell_type": "code",
   "execution_count": 7,
   "metadata": {
    "collapsed": false
   },
   "outputs": [
    {
     "data": {
      "image/png": "[encoded data removed]",
      "text/plain": [
       "<matplotlib.figure.Figure at 0x2faa370>"
      ]
     },
     "metadata": {},
     "output_type": "display_data"
    }
   ],
   "source": [
    "\"\"\"\n",
    "This short code snippet utilizes the new animation package in\n",
    "matplotlib 1.1.0; it's the shortest snippet that I know of that can\n",
    "produce an animated plot in python. I'm still hoping that the\n",
    "animate package's syntax can be simplified further. \n",
    "\"\"\"\n",
    "import numpy as np\n",
    "import matplotlib.pyplot as plt\n",
    "import matplotlib.animation as animation\n",
    " \n",
    "def simData():\n",
    "# this function is called as the argument for\n",
    "# the simPoints function. This function contains\n",
    "# (or defines) and iterator---a device that computes\n",
    "# a value, passes it back to the main program, and then\n",
    "# returns to exactly where it left off in the function upon the\n",
    "# next call. I believe that one has to use this method to animate\n",
    "# a function using the matplotlib animation package.\n",
    "#\n",
    "    t_max = 10.0\n",
    "    dt = 0.05\n",
    "    x = 0.0\n",
    "    t = 0.0\n",
    "    while t < t_max:\n",
    "        x = np.sin(np.pi*t)\n",
    "        t = t + dt\n",
    "        yield x, t\n",
    " \n",
    "def simPoints(simData):\n",
    "    x, t = simData[0], simData[1]\n",
    "    time_text.set_text(time_template%(t))\n",
    "    line.set_data(t, x)\n",
    "    return line, time_text\n",
    " \n",
    "##\n",
    "##   set up figure for plotting:\n",
    "##\n",
    "fig = plt.figure()\n",
    "ax = fig.add_subplot(111)\n",
    "# I'm still unfamiliar with the following line of code:\n",
    "line, = ax.plot([], [], 'bo', ls='-', linewidth=2.0, ms=10)\n",
    "ax.set_ylim(-1, 1)\n",
    "ax.set_xlim(0, 10)\n",
    "##\n",
    "time_template = 'Time = %.1f s'    # prints running simulation time\n",
    "time_text = ax.text(0.05, 0.9, '', transform=ax.transAxes)\n",
    "## Now call the animation package: (simData is the user function\n",
    "## serving as the argument for simPoints):\n",
    "#ani = animation.FuncAnimation(fig, simPoints, simData, blit=True,\\\n",
    "#     interval=100, repeat=True)\n",
    "ani = animation.FuncAnimation(fig, simPoints, simData,\n",
    "     interval=100)\n",
    "plt.show()\n",
    "\n",
    "ani.save('basic_animationblabla.mp4')"
   ]
  },
  {
   "cell_type": "code",
   "execution_count": null,
   "metadata": {
    "collapsed": true
   },
   "outputs": [],
   "source": [
    "#matplotlib.animation documentation: http://matplotlib.org/api/animation_api.html\n",
    "\n",
    "#matplotlib.animation examples: http://matplotlib.org/1.4.1/examples/animation/index.html"
   ]
  },
  {
   "cell_type": "code",
   "execution_count": 11,
   "metadata": {
    "collapsed": false
   },
   "outputs": [
    {
     "data": {
      "image/png": "[encoded data removed]",
      "text/plain": [
       "<matplotlib.figure.Figure at 0x432ded0>"
      ]
     },
     "metadata": {},
     "output_type": "display_data"
    }
   ],
   "source": [
    "#ODD EXAMPLE THAT MAY OR MAY NOT BE OF HELP: http://stackoverflow.com/questions/12892863/animated-scatterplot-of-data-with-matplotlib\n",
    "\n",
    "\n",
    "import matplotlib.pyplot as plt\n",
    "import matplotlib.animation as animation\n",
    "import numpy as np\n",
    "import os\n",
    "\n",
    "n = 25 ## nr of agents\n",
    "x,y = 10, 10 ## matrix of x by y dimension\n",
    "dataX, dataY, binaryRaster = [],[],[]\n",
    "\n",
    "class AnimatedScatter(object):\n",
    "    \"\"\"An animated scatter plot using matplotlib.animations.FuncAnimation.\"\"\"\n",
    "    def __init__(self):\n",
    "        global n\n",
    "        self.numpoints = n\n",
    "        self.stream = self.data_stream()\n",
    "        self.fig, self.ax = plt.subplots()\n",
    "        self.ax.set_title(\"My first Agent Based Model (ABM)\",fontsize=14)\n",
    "        self.ax.grid(True,linestyle='-',color='0.75')\n",
    "        self.ani = animation.FuncAnimation(self.fig, self.update, interval=100, \n",
    "                                           init_func=self.setup_plot, blit=True,\n",
    "                                           repeat=False)\n",
    "\n",
    "    def setup_plot(self):\n",
    "        \"\"\"Initial drawing of the scatter plot.\"\"\"\n",
    "        global x,y\n",
    "        dataX,dataY = next(self.stream)\n",
    "        self.scat = self.ax.scatter(dataY, dataX, c=\"tomato\", s=20, animated=True)\n",
    "        self.ax.axis([0, y, x, 0])\n",
    "        return self.scat,\n",
    "\n",
    "    def data_stream(self):\n",
    "        \"\"\"Generate a random walk (brownian motion). Data is scaled to produce\n",
    "        a soft \"flickering\" effect.\"\"\"\n",
    "        global x,y, n\n",
    "\n",
    "        dataX,dataY = self.createRandomData()\n",
    "\n",
    "        #printing results to ascii for validation\n",
    "        lines = []\n",
    "        binaryData = np.zeros((x,y), dtype=np.int)\n",
    "        for i in range(n):\n",
    "            binaryData[dataX,dataY] =1\n",
    "        for i in range(x):\n",
    "            line = \"\"\n",
    "            for j in range(y):\n",
    "                line += str(binaryData[i,j])+ \",\"\n",
    "            line= line[:-1]+ \"\\n\"\n",
    "            lines.append(line)\n",
    "        lines.append(\"\\n\")\n",
    "\n",
    "        yx = np.array([dataY,dataX])\n",
    "        cnt = 0\n",
    "        while cnt < 10:\n",
    "            dataX,dataY = self.createRandomData()\n",
    "            yx = np.array([dataY,dataX])\n",
    "\n",
    "            #printing results to ascii for validation\n",
    "            binaryData = np.zeros((x,y), dtype=np.int)\n",
    "            for i in range(n):\n",
    "                binaryData[dataX,dataY] =1\n",
    "            for i in range(x):\n",
    "                line = \"\"\n",
    "                for j in range(y):\n",
    "                    line += str(binaryData[i,j])+ \",\"\n",
    "                line= line[:-1]+ \"\\n\"\n",
    "                lines.append(line)\n",
    "            lines.append(\"\\n\")\n",
    "\n",
    "            cnt+=1\n",
    "            yield yx\n",
    "\n",
    "        #printing results to ascii for validation\n",
    "\n",
    "        outNm = os.getcwd()+\"\\\\ScatterValidation.txt\"\n",
    "        outfile = open(outNm, \"w\")\n",
    "        outfile.writelines(lines)\n",
    "        outfile.close()\n",
    "        return\n",
    "\n",
    "    def update(self, i):\n",
    "        \"\"\"Update the scatter plot.\"\"\"\n",
    "        data = next(self.stream)\n",
    "        self.scat.set_offsets(data[:2, :])\n",
    "        return self.scat,\n",
    "\n",
    "    def show(self):\n",
    "        plt.show()\n",
    "\n",
    "    def createRandomData(self):\n",
    "        \"\"\"Positions n agents randomly on a raster of x by y cells.\n",
    "        Each cell can only hold a single agent.\"\"\"\n",
    "\n",
    "        global x,y,n\n",
    "        binaryData = np.zeros((x,y), dtype=np.int)\n",
    "        newAgents = 0\n",
    "        dataX,dataY = [],[]\n",
    "        while newAgents < n:\n",
    "            row = np.random.randint(0,x,1)[0]\n",
    "            col = np.random.randint(0,y,1)[0]\n",
    "            if binaryData[row][col] != 1:\n",
    "                binaryData[row][col] = 1\n",
    "                newAgents+=1\n",
    "\n",
    "        for row in range(x):\n",
    "            for col in range(y):\n",
    "                if binaryData[row][col] == 1:\n",
    "                    dataX.append(row)\n",
    "                    dataY.append(col)\n",
    "        return dataX, dataY\n",
    "\n",
    "def main():\n",
    "    global n, x, y, dataX, dataY, binaryRaster\n",
    "    a = AnimatedScatter()\n",
    "    a.show()\n",
    "    return\n",
    "\n",
    "if __name__ ==  \"__main__\":\n",
    "    main()"
   ]
  },
  {
   "cell_type": "code",
   "execution_count": 14,
   "metadata": {
    "collapsed": false
   },
   "outputs": [
    {
     "name": "stdout",
     "output_type": "stream",
     "text": [
      "Frames: 0\n"
     ]
    },
    {
     "data": {
      "image/png": "[encoded data removed]",
      "text/plain": [
       "<matplotlib.figure.Figure at 0x433aff0>"
      ]
     },
     "metadata": {},
     "output_type": "display_data"
    },
    {
     "name": "stdout",
     "output_type": "stream",
     "text": [
      "Frames: 0\n",
      "Frames: 1\n",
      "Frames: 2\n",
      "Frames: 3\n",
      "Frames: 4\n",
      "Frames: 5\n",
      "Frames: 6\n",
      "Frames: 7\n",
      "Frames: 8\n",
      "Frames: 9\n",
      "Frames: 10\n",
      "Frames: 11\n",
      "Frames: 12\n",
      "Frames: 13\n",
      "Frames: 14\n",
      "Frames: 15\n",
      "Frames: 16\n",
      "Frames: 17\n",
      "Frames: 18\n",
      "Frames: 19\n",
      "Frames: 20\n",
      "Frames: 21\n",
      "Frames: 22\n",
      "Frames: 23\n",
      "Frames: 24\n",
      "Frames: 25\n",
      "Frames: 26\n",
      "Frames: 27\n",
      "Frames: 28\n",
      "Frames: 29\n",
      "Frames: 30\n",
      "Frames: 31\n",
      "Frames: 32\n",
      "Frames: 33\n",
      "Frames: 34\n",
      "Frames: 35\n",
      "Frames: 36\n",
      "Frames: 37\n",
      "Frames: 38\n",
      "Frames: 39\n",
      "Frames: 40\n",
      "Frames: 41\n",
      "Frames: 42\n",
      "Frames: 43\n",
      "Frames: 44\n",
      "Frames: 45\n",
      "Frames: 46\n",
      "Frames: 47\n",
      "Frames: 48\n",
      "Frames: 49\n",
      "Frames: 50\n",
      "Frames: 51\n",
      "Frames: 52\n",
      "Frames: 53\n",
      "Frames: 54\n",
      "Frames: 55\n",
      "Frames: 56\n",
      "Frames: 57\n",
      "Frames: 58\n",
      "Frames: 59\n",
      "Frames: 60\n",
      "Frames: 61\n",
      "Frames: 62\n",
      "Frames: 63\n",
      "Frames: 64\n",
      "Frames: 65\n",
      "Frames: 66\n",
      "Frames: 67\n",
      "Frames: 68\n",
      "Frames: 69\n",
      "Frames: 70\n",
      "Frames: 71\n",
      "Frames: 72\n",
      "Frames: 73\n",
      "Frames: 74\n",
      "Frames: 75\n",
      "Frames: 76\n",
      "Frames: 77\n",
      "Frames: 78\n",
      "Frames: 79\n",
      "Frames: 80\n",
      "Frames: 81\n",
      "Frames: 82\n",
      "Frames: 83\n",
      "Frames: 84\n",
      "Frames: 85\n",
      "Frames: 86\n",
      "Frames: 87\n",
      "Frames: 88\n",
      "Frames: 89\n",
      "Frames: 90\n",
      "Frames: 91\n",
      "Frames: 92\n",
      "Frames: 93\n",
      "Frames: 94\n",
      "Frames: 95\n",
      "Frames: 96\n",
      "Frames: 97\n",
      "Frames: 98\n",
      "Frames: 99\n"
     ]
    }
   ],
   "source": [
    "#YOUTUBE VIDEO SHOWING ANIMATED SCATTERPLOT - CODE NOT AVAILABLE TO COPY. https://www.youtube.com/watch?v=LZrgpPflEzM\n",
    "#!/usr/bin/env python\n",
    "# -*- coding: utf-8 -*-\n",
    "import matplotlib.pyplot as plt\n",
    "import matplotlib.animation as animation\n",
    "import numpy as np\n",
    "\n",
    "def _update_plot(i, fig, scat):\n",
    "    scat.set_offsets(([0, i],[50, i],[100, i]))\n",
    "    print('Frames: %d' %i)\n",
    "\n",
    "    return scat,\n",
    "\n",
    "fig =  plt.figure()                \n",
    "\n",
    "x = [0, 50, 100]\n",
    "y = [0, 0, 0]\n",
    "\n",
    "ax = fig.add_subplot(111)\n",
    "ax.grid(True, linestyle = '-', color = '0.75')\n",
    "ax.set_xlim([-50, 200])\n",
    "ax.set_ylim([-50, 200])\n",
    "\n",
    "scat = plt.scatter(x, y, c = x)\n",
    "scat.set_alpha(0.8)\n",
    "\n",
    "anim = animation.FuncAnimation(fig, _update_plot, fargs = (fig, scat),\n",
    "                               frames = 100, interval = 100)\n",
    "              \n",
    "plt.show()\n",
    "\n",
    "anim.save('basic_animationblablaOCT30.mp4')"
   ]
  }
 ],
 "metadata": {
  "kernelspec": {
   "display_name": "Python 3",
   "language": "python",
   "name": "python3"
  },
  "language_info": {
   "codemirror_mode": {
    "name": "ipython",
    "version": 3
   },
   "file_extension": ".py",
   "mimetype": "text/x-python",
   "name": "python",
   "nbconvert_exporter": "python",
   "pygments_lexer": "ipython3",
   "version": "3.4.3"
  }
 },
 "nbformat": 4,
 "nbformat_minor": 0
}
