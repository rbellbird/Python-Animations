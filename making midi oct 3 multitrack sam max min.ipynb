{
 "cells": [
  {
   "cell_type": "code",
   "execution_count": 24,
   "metadata": {
    "collapsed": false
   },
   "outputs": [],
   "source": [
    "#1. import and define data - to be used for visual graphs and audio generation\n",
    "#DATA BLOOMBERG IS FOR EXPLORING VARIOUS FORCINGS\n",
    "import csv\n",
    "data = []\n",
    "with open(\"data bloomberg news graphs no headings 1880.csv\") as fp:\n",
    "    for row in csv.reader(fp):\n",
    "        data.append(row)\n",
    "years = [int(row[0]) for row in data]\n",
    "allforcings = [float(row[1]) for row in data]\n",
    "human = [float(row[2]) for row in data]\n",
    "natural = [float(row[3]) for row in data]\n",
    "anthropogenic = [float(row[4]) for row in data]\n",
    "greenhouse = [float(row[6]) for row in data]\n",
    "landuse = [float(row[7]) for row in data]\n",
    "orbital = [float(row[8]) for row in data]\n",
    "ozone = [float(row[9]) for row in data]\n",
    "solar = [float(row[10]) for row in data]\n",
    "volcanic = [float(row[11]) for row in data]\n",
    "temps = [float(row[12]) for row in data]\n",
    "tempsfiveavg = [float(row[13]) for row in data]\n",
    "#this is to convert temp anomalies in hundredth deg. C deviations from 1951-1980 global avg (57.2 deg F)\n",
    "#to absolut deg F\n",
    "#LEFTOVER FROM DOING THIS FOR TEMP DATA\n",
    "#temps = [(x/100 * 1.8)+57.2 for x in temp]\n",
    "\n",
    "#this assigns the min and max values for the whole range, 1880 to 2014 UNECESSARY FOR BLOOMBERG FORCES\n",
    "#mintemp = min(temps)\n",
    "#maxtemp = max(temps)\n",
    "minval = 286.9688\n",
    "maxval = 288.652\n",
    "mintemps = min(temps)\n",
    "maxtemps = max(temps)"
   ]
  },
  {
   "cell_type": "code",
   "execution_count": 9,
   "metadata": {
    "collapsed": false
   },
   "outputs": [
    {
     "name": "stderr",
     "output_type": "stream",
     "text": [
      "You are using pip version 7.0.3, however version 7.1.2 is available.\n",
      "You should consider upgrading via the 'python -m pip install --upgrade pip' command.\n"
     ]
    },
    {
     "name": "stdout",
     "output_type": "stream",
     "text": [
      "Processing c:\\users\\singler\\midiutil-0.89.tar.gz\n",
      "  Requirement already satisfied (use --upgrade to upgrade): MIDIUtil==0.89 from file:///C:/Users/singler/MIDIUtil-0.89.tar.gz in c:\\anaconda3\\lib\\site-packages\n"
     ]
    }
   ],
   "source": [
    "import pip\n",
    "\n",
    "def install(package):\n",
    "   pip.main(['install', package])\n",
    "\n",
    "install('MIDIUtil-0.89.tar.gz') "
   ]
  },
  {
   "cell_type": "code",
   "execution_count": 29,
   "metadata": {
    "collapsed": false
   },
   "outputs": [
    {
     "name": "stdout",
     "output_type": "stream",
     "text": [
      "enter minimum midinote: 21\n",
      "enter maximum midinote: 108\n"
     ]
    }
   ],
   "source": [
    "#THIS IS THE CODE TO SET THE RANGE OF MIDI NOTES\n",
    "midinotestemps = []\n",
    "#n = float(input('for how many seconds do you want your sequence to play? '))\n",
    "#dur = n/len(tempslice)\n",
    "#print('each note will play for ',dur,' seconds')\n",
    "mn = int(input('enter minimum midinote: '))\n",
    "mx = int(input('enter maximum midinote: '))\n",
    "for i in range(0,len(temps)):\n",
    "    ratio = (temps[i] - mintemps)/(maxtemps - mintemps)\n",
    "    midinotestemps.append(ratio * (mx - mn) + mn )\n",
    "    \n",
    "#NOW WE NEED TO INSERT ONE SILENT TONE AT THE BEGINING\n",
    "midinotestemps.insert(0,0)\n",
    "#THIS IS CODE TO MAKE THE NOTES INTEGERS\n",
    "midinotestempsint = []\n",
    "for item in midinotestemps:\n",
    "    midinotestempsint.append(int(item))"
   ]
  },
  {
   "cell_type": "code",
   "execution_count": 30,
   "metadata": {
    "collapsed": false
   },
   "outputs": [
    {
     "name": "stdout",
     "output_type": "stream",
     "text": [
      "enter minimum midinote: 21\n",
      "enter maximum midinote: 108\n"
     ]
    }
   ],
   "source": [
    "#THIS IS THE CODE TO SET THE RANGE OF MIDI NOTES FOR TEMPS FIVEAVG\n",
    "midinotestempsfiveavg = []\n",
    "#n = float(input('for how many seconds do you want your sequence to play? '))\n",
    "#dur = n/len(tempslice)\n",
    "#print('each note will play for ',dur,' seconds')\n",
    "mn = int(input('enter minimum midinote: '))\n",
    "mx = int(input('enter maximum midinote: '))\n",
    "for i in range(0,len(temps)):\n",
    "    ratio = (tempsfiveavg[i] - mintemps)/(maxtemps - mintemps)\n",
    "    midinotestempsfiveavg.append(ratio * (mx - mn) + mn )\n",
    "    \n",
    "#NOW WE NEED TO INSERT ONE SILENT TONE AT THE BEGINING\n",
    "midinotestempsfiveavg.insert(0,0)\n",
    "#THIS IS CODE TO MAKE THE NOTES INTEGERS\n",
    "midinotestempsfiveavgint = []\n",
    "for item in midinotestempsfiveavg:\n",
    "    midinotestempsfiveavgint.append(int(item))"
   ]
  },
  {
   "cell_type": "code",
   "execution_count": 17,
   "metadata": {
    "collapsed": false
   },
   "outputs": [
    {
     "name": "stdout",
     "output_type": "stream",
     "text": [
      "enter minimum midinote: 21\n",
      "enter maximum midinote: 108\n"
     ]
    }
   ],
   "source": [
    "#THIS IS THE CODE TO SET THE RANGE OF MIDI NOTES\n",
    "midinotesforce = []\n",
    "#n = float(input('for how many seconds do you want your sequence to play? '))\n",
    "#dur = n/len(tempslice)\n",
    "#print('each note will play for ',dur,' seconds')\n",
    "mn = int(input('enter minimum midinote: '))\n",
    "mx = int(input('enter maximum midinote: '))\n",
    "for i in range(0,len(allforcings)):\n",
    "    ratio = (allforcings[i] - minval)/(maxval - minval)\n",
    "    midinotesforce.append(ratio * (mx - mn) + mn )\n",
    "    \n",
    "#NOW WE NEED TO INSERT ONE SILENT TONE AT THE BEGINING\n",
    "midinotesforce.insert(0,0)\n",
    "#THIS IS CODE TO MAKE THE NOTES INTEGERS\n",
    "midinotesforceint = []\n",
    "for item in midinotesforce:\n",
    "    midinotesforceint.append(int(item))"
   ]
  },
  {
   "cell_type": "code",
   "execution_count": 19,
   "metadata": {
    "collapsed": false
   },
   "outputs": [
    {
     "name": "stdout",
     "output_type": "stream",
     "text": [
      "enter minimum midinote: 21\n",
      "enter maximum midinote: 108\n"
     ]
    }
   ],
   "source": [
    "#THIS IS THE CODE TO SET THE RANGE OF MIDI NOTES FOR SOLAR\n",
    "midinotessolar = []\n",
    "#n = float(input('for how many seconds do you want your sequence to play? '))\n",
    "#dur = n/len(tempslice)\n",
    "#print('each note will play for ',dur,' seconds')\n",
    "mn = int(input('enter minimum midinote: '))\n",
    "mx = int(input('enter maximum midinote: '))\n",
    "for i in range(0,len(solar)):\n",
    "    ratio = (solar[i] - minval)/(maxval - minval)\n",
    "    midinotessolar.append(ratio * (mx - mn) + mn )\n",
    "    \n",
    "#NOW WE NEED TO INSERT ONE SILENT TONE AT THE BEGINING\n",
    "midinotessolar.insert(0,0)\n",
    "#THIS IS CODE TO MAKE THE NOTES INTEGERS\n",
    "midinotessolarint = []\n",
    "for item in midinotessolar:\n",
    "    midinotessolarint.append(int(item))"
   ]
  },
  {
   "cell_type": "code",
   "execution_count": 8,
   "metadata": {
    "collapsed": false
   },
   "outputs": [
    {
     "data": {
      "text/plain": [
       "127"
      ]
     },
     "execution_count": 8,
     "metadata": {},
     "output_type": "execute_result"
    }
   ],
   "source": [
    "len(midinotesforceint)"
   ]
  },
  {
   "cell_type": "code",
   "execution_count": 27,
   "metadata": {
    "collapsed": false
   },
   "outputs": [
    {
     "data": {
      "text/plain": [
       "59"
      ]
     },
     "execution_count": 27,
     "metadata": {},
     "output_type": "execute_result"
    }
   ],
   "source": [
    "midinotesforceint[126]"
   ]
  },
  {
   "cell_type": "code",
   "execution_count": 8,
   "metadata": {
    "collapsed": false
   },
   "outputs": [],
   "source": [
    "#THIS GENERATES MIDI FILE FROM MIDINOTESINT  THIS CODE BELOW IS FOR ALTERNATING NOTES\n",
    "#Import the library\n",
    "\n",
    "from midiutil.MidiFile3 import MIDIFile\n",
    "\n",
    "# Create the MIDIFile Object with 1 track\n",
    "MyMIDI = MIDIFile(1)\n",
    "\n",
    "# Tracks are numbered from zero. Times are measured in beats.\n",
    "\n",
    "#FOR SOME REASON,  THESE TWO LINES NEED TO BE RUN FIRST WHILE OFF, THEN ON WILL WORK SPORADICALLY\n",
    "# Add track name and tempo.\n",
    "#MyMIDI.addTrackName(track,time,\"Sample Track\")\n",
    "#MyMIDI.addTempo(track,time,360)\n",
    "\n",
    "blip = len(midinotesforceint)\n",
    "blips = blip - 1\n",
    "blipss = blips*2\n",
    "x = 1\n",
    "\n",
    "#attempt to make first note silent\n",
    "for i in range(0,1):\n",
    "    track = 0\n",
    "    channel = 0\n",
    "    pitch = midinotesforceint[i]\n",
    "    time = 1\n",
    "    duration = 1\n",
    "    volume = 0\n",
    "    # Now add the note.\n",
    "    MyMIDI.addNote(track,channel,pitch,time,duration,volume)\n",
    "\n",
    "x = x+1\n",
    "    \n",
    "for i in range(1,blips+1):\n",
    "    \n",
    "# Add a note. addNote expects the following information:\n",
    "    track = 0\n",
    "    channel = 0\n",
    "    pitch = midinotesforceint[i]\n",
    "    time = x\n",
    "    duration = 1\n",
    "    volume = 100\n",
    "    # Now add the note.\n",
    "    MyMIDI.addNote(track,channel,pitch,time,duration,volume)\n",
    "\n",
    "#this adds second note that alternates with first\n",
    "    track = 0\n",
    "    channel = 0\n",
    "    pitch = midinotestempsint[i]\n",
    "    time = x+1\n",
    "    duration = 1\n",
    "    volume = 100\n",
    "    # Now add the note.\n",
    "    MyMIDI.addNote(track,channel,pitch,time,duration,volume)\n",
    "    \n",
    "    x = x+2\n",
    "    \n",
    "#THIS IS THE CODE TO MAKE THE LAST NOTE SUSTAIN\n",
    "# Add a note. addNote expects the following information:\n",
    "track = 0\n",
    "channel = 1\n",
    "pitch = midinotestempsint[blip-1]\n",
    "time = x - 1\n",
    "duration = 8\n",
    "volume = 100\n",
    "\n",
    "# Now add the note.\n",
    "MyMIDI.addNote(track,channel,pitch,time,duration,volume)\n",
    "\n",
    "# And write it to disk.\n",
    "binfile = open(\"solarmultilong10.mid\", 'wb')\n",
    "MyMIDI.writeFile(binfile)\n",
    "binfile.close()"
   ]
  },
  {
   "cell_type": "code",
   "execution_count": 16,
   "metadata": {
    "collapsed": false
   },
   "outputs": [],
   "source": [
    "#THIS GENERATES MIDI FILE FROM MIDINOTESINT  THIS CODE BELOW IS FOR TEMP FILE\n",
    "#Import the library\n",
    "\n",
    "from midiutil.MidiFile3 import MIDIFile\n",
    "\n",
    "# Create the MIDIFile Object with 1 track\n",
    "MyMIDI = MIDIFile(1)\n",
    "\n",
    "# Tracks are numbered from zero. Times are measured in beats.\n",
    "\n",
    "#FOR SOME REASON,  THESE TWO LINES NEED TO BE RUN FIRST WHILE OFF, THEN ON WILL WORK SPORADICALLY\n",
    "# Add track name and tempo.\n",
    "#MyMIDI.addTrackName(track,time,\"Sample Track\")\n",
    "#MyMIDI.addTempo(track,time,360)\n",
    "\n",
    "blip = len(midinotestemps)\n",
    "blips = blip - 1\n",
    "blipss = blips*2\n",
    "x = 1\n",
    "\n",
    "#attempt to make first note silent\n",
    "for i in range(0,1):\n",
    "    track = 0\n",
    "    channel = 0\n",
    "    pitch = midinotestemps[i]\n",
    "    time = 1\n",
    "    duration = 1\n",
    "    volume = 0\n",
    "    # Now add the note.\n",
    "    MyMIDI.addNote(track,channel,pitch,time,duration,volume)\n",
    "\n",
    "x = x+1\n",
    "    \n",
    "for i in range(2,blip+1):\n",
    "    \n",
    "\n",
    "\n",
    "#this adds second note that alternates with first\n",
    "    track = 0\n",
    "    channel = 0\n",
    "    pitch = midinotestempsint[i-1]\n",
    "    time = i\n",
    "    duration = 1\n",
    "    volume = 100\n",
    "    # Now add the note.\n",
    "    MyMIDI.addNote(track,channel,pitch,time,duration,volume)\n",
    "    \n",
    "    # x = x+2\n",
    "    \n",
    "#THIS IS THE CODE TO MAKE THE LAST NOTE SUSTAIN\n",
    "# Add a note. addNote expects the following information:\n",
    "track = 0\n",
    "channel = 1\n",
    "pitch = midinotestempsint[i-1]\n",
    "time = i\n",
    "duration = 8\n",
    "volume = 100\n",
    "\n",
    "# Now add the note.\n",
    "MyMIDI.addNote(track,channel,pitch,time,duration,volume)\n",
    "\n",
    "# And write it to disk.\n",
    "binfile = open(\"tempstestb.mid\", 'wb')\n",
    "MyMIDI.writeFile(binfile)\n",
    "binfile.close()"
   ]
  },
  {
   "cell_type": "code",
   "execution_count": 50,
   "metadata": {
    "collapsed": false
   },
   "outputs": [],
   "source": [
    "#THIS GENERATES MIDI FILE FROM MIDINOTESINT  THIS CODE BELOW IS FOR TEMPSFIVEAVG FILE\n",
    "#Import the library\n",
    "\n",
    "from midiutil.MidiFile3 import MIDIFile\n",
    "\n",
    "# Create the MIDIFile Object with 1 track\n",
    "MyMIDI = MIDIFile(1)\n",
    "\n",
    "# Tracks are numbered from zero. Times are measured in beats.\n",
    "\n",
    "#FOR SOME REASON,  THESE TWO LINES NEED TO BE RUN FIRST WHILE OFF, THEN ON WILL WORK SPORADICALLY\n",
    "# Add track name and tempo.\n",
    "#MyMIDI.addTrackName(track,time,\"Sample Track\")\n",
    "#MyMIDI.addTempo(track,time,360)\n",
    "\n",
    "blip = len(midinotestempsfiveavg)\n",
    "blips = blip - 1\n",
    "blipss = blips*2\n",
    "w = 1\n",
    "\n",
    "#attempt to make first note silent\n",
    "#for i in range(0,1):\n",
    "track = 0\n",
    "channel = 0\n",
    "pitch = midinotestempsfiveavgint[1]\n",
    "time = 1\n",
    "duration = 1\n",
    "volume = 0\n",
    "# Now add the note.\n",
    "MyMIDI.addNote(track,channel,pitch,time,duration,volume)\n",
    "\n",
    "\n",
    "#the 5 after blip means in increments of 5\n",
    "for i in range(1,blip,6):\n",
    "    \n",
    "\n",
    "\n",
    "#this adds second note that alternates with first\n",
    "    track = 0\n",
    "    channel = 0\n",
    "    pitch = midinotestempsfiveavgint[i-1]\n",
    "    time = i\n",
    "    duration = 6\n",
    "    volume = 100\n",
    "    # Now add the note.\n",
    "    MyMIDI.addNote(track,channel,pitch,time,duration,volume)\n",
    "    \n",
    "    w = w+5\n",
    "    \n",
    "#THIS IS THE CODE TO MAKE THE LAST NOTE SUSTAIN\n",
    "# Add a note. addNote expects the following information:\n",
    "track = 0\n",
    "channel = 0\n",
    "pitch = midinotestempsfiveavgint[i+1]\n",
    "time = i+6\n",
    "duration = 12\n",
    "volume = 100\n",
    "# Now add the note.\n",
    "MyMIDI.addNote(track,channel,pitch,time,duration,volume)\n",
    "\n",
    "# Now add the note.\n",
    "MyMIDI.addNote(track,channel,pitch,time,duration,volume)\n",
    "\n",
    "# And write it to disk.\n",
    "binfile = open(\"tempstestfiveavgFOUR.mid\", 'wb')\n",
    "MyMIDI.writeFile(binfile)\n",
    "binfile.close()"
   ]
  },
  {
   "cell_type": "code",
   "execution_count": 18,
   "metadata": {
    "collapsed": true
   },
   "outputs": [],
   "source": [
    "#THIS GENERATES MIDI FILE FROM MIDINOTESINT  THIS CODE BELOW IS FOR force FILE\n",
    "#Import the library\n",
    "\n",
    "from midiutil.MidiFile3 import MIDIFile\n",
    "\n",
    "# Create the MIDIFile Object with 1 track\n",
    "MyMIDI = MIDIFile(1)\n",
    "\n",
    "# Tracks are numbered from zero. Times are measured in beats.\n",
    "\n",
    "#FOR SOME REASON,  THESE TWO LINES NEED TO BE RUN FIRST WHILE OFF, THEN ON WILL WORK SPORADICALLY\n",
    "# Add track name and tempo.\n",
    "#MyMIDI.addTrackName(track,time,\"Sample Track\")\n",
    "#MyMIDI.addTempo(track,time,360)\n",
    "\n",
    "blip = len(midinotesforce)\n",
    "blips = blip - 1\n",
    "blipss = blips*2\n",
    "x = 1\n",
    "\n",
    "#attempt to make first note silent\n",
    "for i in range(0,1):\n",
    "    track = 0\n",
    "    channel = 0\n",
    "    pitch = midinotesforce[i]\n",
    "    time = 1\n",
    "    duration = 1\n",
    "    volume = 0\n",
    "    # Now add the note.\n",
    "    MyMIDI.addNote(track,channel,pitch,time,duration,volume)\n",
    "\n",
    "x = x+1\n",
    "    \n",
    "for i in range(2,blip+1):\n",
    "    \n",
    "\n",
    "\n",
    "#this adds second note that alternates with first\n",
    "    track = 0\n",
    "    channel = 0\n",
    "    pitch = midinotesforceint[i-1]\n",
    "    time = i\n",
    "    duration = 1\n",
    "    volume = 100\n",
    "    # Now add the note.\n",
    "    MyMIDI.addNote(track,channel,pitch,time,duration,volume)\n",
    "    \n",
    "    # x = x+2\n",
    "    \n",
    "#THIS IS THE CODE TO MAKE THE LAST NOTE SUSTAIN\n",
    "# Add a note. addNote expects the following information:\n",
    "track = 0\n",
    "channel = 1\n",
    "pitch = midinotesforceint[i-1]\n",
    "time = i\n",
    "duration = 8\n",
    "volume = 100\n",
    "\n",
    "# Now add the note.\n",
    "MyMIDI.addNote(track,channel,pitch,time,duration,volume)\n",
    "\n",
    "# And write it to disk.\n",
    "binfile = open(\"forcetestb.mid\", 'wb')\n",
    "MyMIDI.writeFile(binfile)\n",
    "binfile.close()"
   ]
  },
  {
   "cell_type": "code",
   "execution_count": 22,
   "metadata": {
    "collapsed": false
   },
   "outputs": [],
   "source": [
    "#THIS GENERATES MIDI FILE FROM MIDINOTESINT  THIS CODE BELOW IS FOR SOLAR FILE\n",
    "#Import the library\n",
    "\n",
    "from midiutil.MidiFile3 import MIDIFile\n",
    "\n",
    "# Create the MIDIFile Object with 1 track\n",
    "MyMIDI = MIDIFile(1)\n",
    "\n",
    "# Tracks are numbered from zero. Times are measured in beats.\n",
    "\n",
    "#FOR SOME REASON,  THESE TWO LINES NEED TO BE RUN FIRST WHILE OFF, THEN ON WILL WORK SPORADICALLY\n",
    "# Add track name and tempo.\n",
    "#MyMIDI.addTrackName(track,time,\"Sample Track\")\n",
    "#MyMIDI.addTempo(track,time,360)\n",
    "\n",
    "blip = len(midinotessolar)\n",
    "blips = blip - 1\n",
    "blipss = blips*2\n",
    "x = 1\n",
    "\n",
    "#attempt to make first note silent\n",
    "for i in range(0,1):\n",
    "    track = 0\n",
    "    channel = 0\n",
    "    pitch = midinotessolar[i]\n",
    "    time = 1\n",
    "    duration = 1\n",
    "    volume = 0\n",
    "    # Now add the note.\n",
    "    MyMIDI.addNote(track,channel,pitch,time,duration,volume)\n",
    "\n",
    "x = x+1\n",
    "    \n",
    "for i in range(2,blip+1):\n",
    "    \n",
    "\n",
    "\n",
    "#this adds second note that alternates with first\n",
    "    track = 0\n",
    "    channel = 0\n",
    "    pitch = midinotessolarint[i-1]\n",
    "    time = i\n",
    "    duration = 1\n",
    "    volume = 100\n",
    "    # Now add the note.\n",
    "    MyMIDI.addNote(track,channel,pitch,time,duration,volume)\n",
    "    \n",
    "    # x = x+2\n",
    "    \n",
    "#THIS IS THE CODE TO MAKE THE LAST NOTE SUSTAIN\n",
    "# Add a note. addNote expects the following information:\n",
    "track = 0\n",
    "channel = 1\n",
    "pitch = midinotessolarint[i-1]\n",
    "time = i\n",
    "duration = 8\n",
    "volume = 100\n",
    "\n",
    "# Now add the note.\n",
    "MyMIDI.addNote(track,channel,pitch,time,duration,volume)\n",
    "\n",
    "# And write it to disk.\n",
    "binfile = open(\"solartest.mid\", 'wb')\n",
    "MyMIDI.writeFile(binfile)\n",
    "binfile.close()"
   ]
  },
  {
   "cell_type": "code",
   "execution_count": 23,
   "metadata": {
    "collapsed": true
   },
   "outputs": [],
   "source": [
    "#THIS an attempt to make half time midi file\n",
    "#Import the library\n",
    "\n",
    "from midiutil.MidiFile3 import MIDIFile\n",
    "\n",
    "# Create the MIDIFile Object with 1 track\n",
    "MyMIDI = MIDIFile(1)\n",
    "\n",
    "# Tracks are numbered from zero. Times are measured in beats.\n",
    "\n",
    "#FOR SOME REASON,  THESE TWO LINES NEED TO BE RUN FIRST WHILE OFF, THEN ON WILL WORK SPORADICALLY\n",
    "# Add track name and tempo.\n",
    "#MyMIDI.addTrackName(track,time,\"Sample Track\")\n",
    "#MyMIDI.addTempo(track,time,360)\n",
    "\n",
    "blip = len(midinotessolar)\n",
    "blips = blip - 1\n",
    "blipss = blips*2\n",
    "x = 1\n",
    "\n",
    "#attempt to make first note silent\n",
    "for i in range(0,1):\n",
    "    track = 0\n",
    "    channel = 0\n",
    "    pitch = midinotessolar[i]\n",
    "    time = 1\n",
    "    duration = 1\n",
    "    volume = 0\n",
    "    # Now add the note.\n",
    "    MyMIDI.addNote(track,channel,pitch,time,duration,volume)\n",
    "\n",
    "\n",
    "    \n",
    "for i in range(2,blip+1):\n",
    "    \n",
    "\n",
    "\n",
    "#this adds second note that alternates with first\n",
    "    track = 0\n",
    "    channel = 0\n",
    "    pitch = midinotessolarint[i-1]\n",
    "    time = x+0.5\n",
    "    duration = 1\n",
    "    volume = 100\n",
    "    # Now add the note.\n",
    "    MyMIDI.addNote(track,channel,pitch,time,duration,volume)\n",
    "    \n",
    "    x = x+0.5\n",
    "    \n",
    "#THIS IS THE CODE TO MAKE THE LAST NOTE SUSTAIN\n",
    "# Add a note. addNote expects the following information:\n",
    "track = 0\n",
    "channel = 1\n",
    "pitch = midinotessolarint[i-1]\n",
    "time = i\n",
    "duration = 8\n",
    "volume = 100\n",
    "\n",
    "# Now add the note.\n",
    "MyMIDI.addNote(track,channel,pitch,time,duration,volume)\n",
    "\n",
    "# And write it to disk.\n",
    "binfile = open(\"solartesthalf.mid\", 'wb')\n",
    "MyMIDI.writeFile(binfile)\n",
    "binfile.close()"
   ]
  },
  {
   "cell_type": "code",
   "execution_count": 7,
   "metadata": {
    "collapsed": false
   },
   "outputs": [
    {
     "data": {
      "text/plain": [
       "108"
      ]
     },
     "execution_count": 7,
     "metadata": {},
     "output_type": "execute_result"
    }
   ],
   "source": [
    "midinotesint[135]"
   ]
  },
  {
   "cell_type": "code",
   "execution_count": null,
   "metadata": {
    "collapsed": true
   },
   "outputs": [],
   "source": []
  }
 ],
 "metadata": {
  "kernelspec": {
   "display_name": "Python 3",
   "language": "python",
   "name": "python3"
  },
  "language_info": {
   "codemirror_mode": {
    "name": "ipython",
    "version": 3
   },
   "file_extension": ".py",
   "mimetype": "text/x-python",
   "name": "python",
   "nbconvert_exporter": "python",
   "pygments_lexer": "ipython3",
   "version": "3.4.3"
  }
 },
 "nbformat": 4,
 "nbformat_minor": 0
}
